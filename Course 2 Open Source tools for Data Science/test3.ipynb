{
    "cells": [
        {
            "metadata": {},
            "cell_type": "markdown",
            "source": "# My Jupyter Notebook on IBM Data Science Experience"
        },
        {
            "metadata": {
                "collapsed": true
            },
            "cell_type": "markdown",
            "source": "**Prabesh B K**  \nData Scientist"
        },
        {
            "metadata": {},
            "cell_type": "markdown",
            "source": "*I am interested in data science because i love finding solutions.*"
        },
        {
            "metadata": {},
            "cell_type": "markdown",
            "source": "### My code in Cell 5 will execute simple addition and display the result"
        },
        {
            "metadata": {},
            "cell_type": "code",
            "source": "5+2",
            "execution_count": 5,
            "outputs": [
                {
                    "output_type": "execute_result",
                    "execution_count": 5,
                    "data": {
                        "text/plain": "7"
                    },
                    "metadata": {}
                }
            ]
        },
        {
            "metadata": {},
            "cell_type": "markdown",
            "source": "Function Horizontal Rule: \n___________  \n \nFunction Blocked Quotes :  <blockquote style=\"background:Gray;\">Blocked Quotes</blockquote>  \n  \n### Other Functions Shown Below in Table \n___________  \n\n| Table to show functions |  Hyperlink |Bulleted List  |  \n|---                       |---       |---          |\n| output                 |  <a href=\"https://www.google.com\" target=\"_blank\"> Click to Open Google </a>| <ul>List<li>one<li>two<li>three</ul>|  \n\nImage logo : ![alt text](https://github.com/adam-p/markdown-here/raw/master/src/common/images/icon48.png \"Logo \")"
        }
    ],
    "metadata": {
        "kernelspec": {
            "name": "python3",
            "display_name": "Python 3.6",
            "language": "python"
        },
        "language_info": {
            "name": "python",
            "version": "3.6.8",
            "mimetype": "text/x-python",
            "codemirror_mode": {
                "name": "ipython",
                "version": 3
            },
            "pygments_lexer": "ipython3",
            "nbconvert_exporter": "python",
            "file_extension": ".py"
        }
    },
    "nbformat": 4,
    "nbformat_minor": 1
}